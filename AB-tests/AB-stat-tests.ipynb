{
 "cells": [
  {
   "cell_type": "markdown",
   "id": "b1e4108a-7ad7-484d-a201-b17d0ab05897",
   "metadata": {
    "tags": []
   },
   "source": [
    "## Задание: \n",
    "\n",
    "Нужно проанализировать данные А/B-теста, который проходил с 2024-03-29 по 2024-04-04 включительно. Для эксперимента были задействованы группы 1 и 2, во 2-ой был использован один из новых алгоритмов рекомендации постов, а 1-ая использовалась в качестве контроля. \n",
    "\n",
    "**Основная гипотеза**: новый алгоритм во 2-й группе приведет к увеличению CTR. \n",
    "\n",
    "1. Сравнить CTR в двух группах, используя:\n",
    "   - t-тест\n",
    "   - Пуассоновский бутстреп\n",
    "   - Тест Манна-Уитни\n",
    "   - t-тест на сглаженном ctr (α=5) \n",
    "   - t-тест и тест Манна-Уитни поверх бакетного преобразования\n",
    "2. Посмотреть на распределения глазами, ответить на вопрос: почему тесты сработали именно так? Описать потенциальную ситуацию, когда такое изменение могло произойти (на подумать).\n",
    "3. Написать рекомендацию, можно ли раскатывать новый алгоритм на всех новых пользователей или всё-таки не стоит, обосновать и аргументировать вывод."
   ]
  },
  {
   "cell_type": "code",
   "execution_count": 1,
   "id": "59732f16-b37a-4f81-bd34-002539c96091",
   "metadata": {},
   "outputs": [],
   "source": [
    "import pandahouse \n",
    "import pandas as pd\n",
    "import random \n",
    "from scipy import stats\n",
    "import seaborn as sns\n",
    "import matplotlib.pyplot as plt\n",
    "import numpy as np"
   ]
  },
  {
   "cell_type": "code",
   "execution_count": 2,
   "id": "ae73fbf9-2409-4b76-9958-75a1cec755d8",
   "metadata": {},
   "outputs": [],
   "source": [
    "connection = { #здесь были параметры подключения\n",
    "    'host': \"...\",\n",
    "    'password': \"...\",\n",
    "    'user': '...',\n",
    "    'database': \"...\"\n",
    "}"
   ]
  },
  {
   "cell_type": "code",
   "execution_count": 3,
   "id": "14317eab-5e80-4705-adc5-b66cc6a4616c",
   "metadata": {},
   "outputs": [],
   "source": [
    "q = \"\"\"\n",
    "    select exp_group,\n",
    "           user_id, \n",
    "           sum(action='view') as views, \n",
    "           sum(action='like') as likes, \n",
    "           sum(action='like')/sum(action='view') as ctr\n",
    "    from {db}.feed_actions\n",
    "    where date(time) between date('2024-03-29') and date('2024-04-04')\n",
    "          and exp_group in (1, 2)\n",
    "    group by user_id, exp_group\n",
    "\"\"\"\n",
    "df = pandahouse.read_clickhouse(q, connection=connection)"
   ]
  },
  {
   "cell_type": "code",
   "execution_count": 4,
   "id": "66c80fdb-eb1f-4c99-bf9a-123f4e70daf3",
   "metadata": {},
   "outputs": [
    {
     "data": {
      "text/html": [
       "<div>\n",
       "<style scoped>\n",
       "    .dataframe tbody tr th:only-of-type {\n",
       "        vertical-align: middle;\n",
       "    }\n",
       "\n",
       "    .dataframe tbody tr th {\n",
       "        vertical-align: top;\n",
       "    }\n",
       "\n",
       "    .dataframe thead th {\n",
       "        text-align: right;\n",
       "    }\n",
       "</style>\n",
       "<table border=\"1\" class=\"dataframe\">\n",
       "  <thead>\n",
       "    <tr style=\"text-align: right;\">\n",
       "      <th></th>\n",
       "      <th>user_id</th>\n",
       "      <th>views</th>\n",
       "      <th>likes</th>\n",
       "      <th>ctr</th>\n",
       "    </tr>\n",
       "    <tr>\n",
       "      <th>exp_group</th>\n",
       "      <th></th>\n",
       "      <th></th>\n",
       "      <th></th>\n",
       "      <th></th>\n",
       "    </tr>\n",
       "  </thead>\n",
       "  <tbody>\n",
       "    <tr>\n",
       "      <th>1</th>\n",
       "      <td>10020</td>\n",
       "      <td>10020</td>\n",
       "      <td>10020</td>\n",
       "      <td>10020</td>\n",
       "    </tr>\n",
       "    <tr>\n",
       "      <th>2</th>\n",
       "      <td>9877</td>\n",
       "      <td>9877</td>\n",
       "      <td>9877</td>\n",
       "      <td>9877</td>\n",
       "    </tr>\n",
       "  </tbody>\n",
       "</table>\n",
       "</div>"
      ],
      "text/plain": [
       "           user_id  views  likes    ctr\n",
       "exp_group                              \n",
       "1            10020  10020  10020  10020\n",
       "2             9877   9877   9877   9877"
      ]
     },
     "execution_count": 4,
     "metadata": {},
     "output_type": "execute_result"
    }
   ],
   "source": [
    "df.groupby('exp_group').count()"
   ]
  },
  {
   "cell_type": "markdown",
   "id": "3e69bfae-a2a4-4fab-82f6-e20e0e4733f8",
   "metadata": {},
   "source": [
    "Распределение CTR в контрольной и тестовой группах:"
   ]
  },
  {
   "cell_type": "code",
   "execution_count": 6,
   "id": "2d71bda1-1443-4ac9-9b5a-283975ad36ad",
   "metadata": {},
   "outputs": [],
   "source": [
    "sns.set(rc={'figure.figsize':(20, 10)})"
   ]
  },
  {
   "cell_type": "code",
   "execution_count": 7,
   "id": "91db656a-0d1d-4f15-aac5-247c94176442",
   "metadata": {},
   "outputs": [
    {
     "data": {
      "text/plain": [
       "<Axes: xlabel='ctr', ylabel='Count'>"
      ]
     },
     "execution_count": 7,
     "metadata": {},
     "output_type": "execute_result"
    },
    {
     "data": {
      "image/png": "[encoded data removed]",
      "text/plain": [
       "<Figure size 1440x720 with 1 Axes>"
      ]
     },
     "metadata": {},
     "output_type": "display_data"
    }
   ],
   "source": [
    "sns.histplot(data=df, x='ctr', hue='exp_group', palette=['r', 'g'], alpha=0.5, kde=False)"
   ]
  },
  {
   "cell_type": "markdown",
   "id": "ba50cf17-27f0-441c-a944-4d3fc035526d",
   "metadata": {},
   "source": [
    "**t-test**"
   ]
  },
  {
   "cell_type": "code",
   "execution_count": 8,
   "id": "ad3389d1-f311-485a-a691-319c46102679",
   "metadata": {},
   "outputs": [],
   "source": [
    "p_value_ttest = stats.ttest_ind(df[df.exp_group==1].ctr, df[df.exp_group==2].ctr, equal_var=False)[1]"
   ]
  },
  {
   "cell_type": "code",
   "execution_count": 9,
   "id": "3714875a-3daf-437a-9416-da7e83f47148",
   "metadata": {},
   "outputs": [
    {
     "data": {
      "text/plain": [
       "0.685373331140751"
      ]
     },
     "execution_count": 9,
     "metadata": {},
     "output_type": "execute_result"
    }
   ],
   "source": [
    "p_value_ttest"
   ]
  },
  {
   "cell_type": "markdown",
   "id": "6af3be4e-b0d0-4562-8756-723f182c239d",
   "metadata": {},
   "source": [
    "**Пуассоновский бутстреп**"
   ]
  },
  {
   "cell_type": "code",
   "execution_count": 10,
   "id": "e4791012-7d75-4fa7-b0d4-8d86cd1bbfbc",
   "metadata": {},
   "outputs": [],
   "source": [
    "likes_1 = df[df.exp_group==1].likes.to_numpy()\n",
    "likes_2 = df[df.exp_group==2].likes.to_numpy()"
   ]
  },
  {
   "cell_type": "code",
   "execution_count": 11,
   "id": "236b926a-fc25-40df-9ddf-8a962515436b",
   "metadata": {},
   "outputs": [],
   "source": [
    "views_1 = df[df.exp_group==1].views.to_numpy()\n",
    "views_2 = df[df.exp_group==2].views.to_numpy()"
   ]
  },
  {
   "cell_type": "code",
   "execution_count": 12,
   "id": "e484e73e-2437-4e87-b703-b0b45362f341",
   "metadata": {},
   "outputs": [],
   "source": [
    "subgroup_1 = stats.poisson(1).rvs((2000, len(likes_1)))\n",
    "subgroup_2 = stats.poisson(1).rvs((2000, len(likes_2)))"
   ]
  },
  {
   "cell_type": "code",
   "execution_count": 13,
   "id": "399a33e2-0de3-45b2-919f-3207dae4b824",
   "metadata": {},
   "outputs": [],
   "source": [
    "global_ctr_1 = (subgroup_1 * likes_1).sum(axis=1)/(subgroup_1 * views_1).sum(axis=1)\n",
    "global_ctr_2 = (subgroup_2 * likes_2).sum(axis=1)/(subgroup_2 * views_2).sum(axis=1)"
   ]
  },
  {
   "cell_type": "markdown",
   "id": "84bb1795-e6ef-4499-b8f0-611d6fe52d26",
   "metadata": {},
   "source": [
    "Распределение группового CTR:"
   ]
  },
  {
   "cell_type": "code",
   "execution_count": 14,
   "id": "e1bcfb31-2b58-4383-8b31-d95f20eb39ed",
   "metadata": {},
   "outputs": [
    {
     "data": {
      "text/plain": [
       "<Axes: ylabel='Count'>"
      ]
     },
     "execution_count": 14,
     "metadata": {},
     "output_type": "execute_result"
    },
    {
     "data": {
      "image/png": "[encoded data removed]",
      "text/plain": [
       "<Figure size 1440x576 with 2 Axes>"
      ]
     },
     "metadata": {},
     "output_type": "display_data"
    }
   ],
   "source": [
    "ctrs, axes = plt.subplots(1, 2, sharex=True, figsize=(20,8))\n",
    "sns.histplot(ax=axes[0], data=global_ctr_1, alpha=0.5, kde=False) #ctr контрольной группы\n",
    "sns.histplot(ax=axes[1], data=global_ctr_2, alpha=0.5, kde=False) #ctr тестовой группы"
   ]
  },
  {
   "cell_type": "markdown",
   "id": "dd9f2b5f-3e3c-4a30-893f-1adbb98734e6",
   "metadata": {},
   "source": [
    "Распределение разницы между групповыми CTR в контрольной и тестовой группах:"
   ]
  },
  {
   "cell_type": "code",
   "execution_count": 15,
   "id": "18aab23b-b1f6-4e74-878a-ce5ab24032aa",
   "metadata": {},
   "outputs": [
    {
     "data": {
      "text/plain": [
       "<Axes: ylabel='Count'>"
      ]
     },
     "execution_count": 15,
     "metadata": {},
     "output_type": "execute_result"
    },
    {
     "data": {
      "image/png": "[encoded data removed]",
      "text/plain": [
       "<Figure size 1440x720 with 1 Axes>"
      ]
     },
     "metadata": {},
     "output_type": "display_data"
    }
   ],
   "source": [
    "diff_ctr = global_ctr_1 - global_ctr_2 #распределение разницы между глобальными ctr: контроль - тест\n",
    "sns.set(rc={'figure.figsize':(20, 10)})\n",
    "sns.histplot(diff_ctr)"
   ]
  },
  {
   "cell_type": "markdown",
   "id": "b6628292-869b-466f-ad18-4869caf39da2",
   "metadata": {},
   "source": [
    "**Тест Манна-Уитни**"
   ]
  },
  {
   "cell_type": "code",
   "execution_count": 16,
   "id": "954648eb-a2f7-4d3e-8393-46363e0bd8da",
   "metadata": {},
   "outputs": [],
   "source": [
    "p_value_man = stats.mannwhitneyu(df[df.exp_group==1].ctr, df[df.exp_group==2].ctr)[1]"
   ]
  },
  {
   "cell_type": "code",
   "execution_count": 17,
   "id": "51be0b4e-db18-46bd-abcd-404d533e30ef",
   "metadata": {},
   "outputs": [
    {
     "data": {
      "text/plain": [
       "4.632205841806026e-45"
      ]
     },
     "execution_count": 17,
     "metadata": {},
     "output_type": "execute_result"
    }
   ],
   "source": [
    "p_value_man"
   ]
  },
  {
   "cell_type": "markdown",
   "id": "fe38d3dc-5c9a-445c-b2fd-ed3d1f56d52b",
   "metadata": {},
   "source": [
    " **t-тест на сглаженном ctr (α=5)**"
   ]
  },
  {
   "cell_type": "code",
   "execution_count": 18,
   "id": "ad3567ae-4f84-4866-ae46-fe0844f96829",
   "metadata": {},
   "outputs": [],
   "source": [
    "alpha = 5\n",
    "global_ctr_1 = df[df.exp_group==1].likes.sum()/df[df.exp_group==1].views.sum()\n",
    "global_ctr_2 = df[df.exp_group==2].likes.sum()/df[df.exp_group==2].views.sum()"
   ]
  },
  {
   "cell_type": "code",
   "execution_count": 19,
   "id": "fbc41698-fb1c-4f13-9f07-3a1e8d74aa10",
   "metadata": {},
   "outputs": [],
   "source": [
    "group_1 = (df[df.exp_group==1].likes + alpha * global_ctr_1)/(df[df.exp_group==1].views + alpha)\n",
    "group_2 = (df[df.exp_group==2].likes + alpha * global_ctr_2)/(df[df.exp_group==2].views + alpha)"
   ]
  },
  {
   "cell_type": "code",
   "execution_count": 20,
   "id": "a02510b3-d012-40ad-942f-0df7d37bbf9d",
   "metadata": {},
   "outputs": [],
   "source": [
    "gr_1 = pd.DataFrame({'usual': df[df.exp_group==1].ctr.to_list(), 'smooth':group_1.to_list()})\n",
    "gr_2 = pd.DataFrame({'usual': df[df.exp_group==2].ctr.to_list(), 'smooth':group_2.to_list()})"
   ]
  },
  {
   "cell_type": "markdown",
   "id": "61327624-d5a7-402c-8b9c-3650d468ce3a",
   "metadata": {},
   "source": [
    "Распределение сглаженных CTR в контрольной и тестовой группах:"
   ]
  },
  {
   "cell_type": "code",
   "execution_count": 21,
   "id": "6eb9592c-5765-4594-9a9b-150198895dee",
   "metadata": {},
   "outputs": [
    {
     "data": {
      "text/plain": [
       "<Axes: ylabel='Count'>"
      ]
     },
     "execution_count": 21,
     "metadata": {},
     "output_type": "execute_result"
    },
    {
     "data": {
      "image/png": "[encoded data removed]",
      "text/plain": [
       "<Figure size 1440x576 with 2 Axes>"
      ]
     },
     "metadata": {},
     "output_type": "display_data"
    }
   ],
   "source": [
    "ctrs, axes = plt.subplots(1, 2, sharex=True, figsize=(20,8))\n",
    "sns.histplot(ax=axes[0], data=gr_1, alpha=0.5, kde=False) \n",
    "sns.histplot(ax=axes[1], data=gr_2, alpha=0.5, kde=False) "
   ]
  },
  {
   "cell_type": "code",
   "execution_count": 22,
   "id": "775929b3-9fd8-4878-be8a-9d2fbaa70cde",
   "metadata": {},
   "outputs": [],
   "source": [
    "smoothed_p_value = stats.ttest_ind(group_1, group_2, equal_var=False)[1]"
   ]
  },
  {
   "cell_type": "code",
   "execution_count": 23,
   "id": "50b5fdb1-6028-4115-9d2f-e7c03c13a1e3",
   "metadata": {},
   "outputs": [
    {
     "data": {
      "text/plain": [
       "0.05166679015318526"
      ]
     },
     "execution_count": 23,
     "metadata": {},
     "output_type": "execute_result"
    }
   ],
   "source": [
    "smoothed_p_value"
   ]
  },
  {
   "cell_type": "markdown",
   "id": "35dc5e11-abc8-4cec-b6db-ff9fd978019b",
   "metadata": {},
   "source": [
    "**t-тест и тест Манна-Уитни поверх бакетного преобразования**"
   ]
  },
  {
   "cell_type": "code",
   "execution_count": 24,
   "id": "9034db21-4816-47d2-8849-118d06506732",
   "metadata": {},
   "outputs": [],
   "source": [
    "q_buc = \"\"\"\n",
    "    select exp_group,\n",
    "           bucket,\n",
    "           sum(likes)/sum(views) as bucket_ctr\n",
    "    from (\n",
    "        select exp_group,\n",
    "               xxHash64(user_id)%50 as bucket,\n",
    "               user_id,\n",
    "               sum(action = 'like') as likes,\n",
    "               sum(action = 'view') as views,\n",
    "               sum(action = 'like')/sum(action = 'view') as ctr\n",
    "        from {db}.feed_actions\n",
    "        where date(time) between date('2024-03-29') and date('2024-04-04')\n",
    "              and exp_group in (1, 2)\n",
    "        group by user_id, exp_group, bucket)\n",
    "    group by exp_group, bucket\n",
    "\"\"\"\n",
    "df = pandahouse.read_clickhouse(q_buc, connection=connection)"
   ]
  },
  {
   "cell_type": "markdown",
   "id": "4d99d628-8c91-4068-ab57-eebba5a341db",
   "metadata": {},
   "source": [
    "Распределение CTR в контрольной и тестовой группах после бакетного преобразования:"
   ]
  },
  {
   "cell_type": "code",
   "execution_count": 25,
   "id": "cc83c8d0-55be-4d2c-8115-310a861b9ac1",
   "metadata": {},
   "outputs": [
    {
     "data": {
      "text/plain": [
       "<Axes: ylabel='Count'>"
      ]
     },
     "execution_count": 25,
     "metadata": {},
     "output_type": "execute_result"
    },
    {
     "data": {
      "image/png": "[encoded data removed]",
      "text/plain": [
       "<Figure size 1440x576 with 2 Axes>"
      ]
     },
     "metadata": {},
     "output_type": "display_data"
    }
   ],
   "source": [
    "ctrs, axes = plt.subplots(1, 2, sharex=True, figsize=(20,8))\n",
    "sns.histplot(ax=axes[0], data=group_1, alpha=0.5, kde=False) \n",
    "sns.histplot(ax=axes[1], data=group_2, alpha=0.5, kde=False) "
   ]
  },
  {
   "cell_type": "code",
   "execution_count": 26,
   "id": "e062b39f-17b2-43be-a92b-7b1a7f595f3c",
   "metadata": {},
   "outputs": [],
   "source": [
    "buc_ttest_pvalue = stats.ttest_ind(df[df.exp_group==1].bucket_ctr, df[df.exp_group==2].bucket_ctr, equal_var=False)[1]\n",
    "buc_man_pvalue = stats.mannwhitneyu(df[df.exp_group==1].bucket_ctr, df[df.exp_group==2].bucket_ctr)[1]"
   ]
  },
  {
   "cell_type": "code",
   "execution_count": 27,
   "id": "9f1811f5-acc8-4d60-97a1-99a0625eb880",
   "metadata": {},
   "outputs": [
    {
     "name": "stdout",
     "output_type": "stream",
     "text": [
      "4.592644937473873e-07\n",
      "2.6576427804010095e-07\n"
     ]
    }
   ],
   "source": [
    "print(buc_ttest_pvalue)\n",
    "print(buc_man_pvalue)"
   ]
  },
  {
   "cell_type": "markdown",
   "id": "6c8e98a7-e84a-4db9-a963-cd87d2e45930",
   "metadata": {},
   "source": [
    "#### Summary"
   ]
  },
  {
   "cell_type": "code",
   "execution_count": 28,
   "id": "8cc81d8a-b2c4-4d77-af7c-59629495e2dc",
   "metadata": {},
   "outputs": [],
   "source": [
    "results = pd.DataFrame({'ttest': [p_value_ttest], 'mann': [p_value_man], 'smoothed_ttest': [smoothed_p_value], 'buc_ttest': [buc_ttest_pvalue], 'buc_mann': [buc_man_pvalue]})"
   ]
  },
  {
   "cell_type": "code",
   "execution_count": 29,
   "id": "ac586564-3db1-483a-a132-b9de977f61ae",
   "metadata": {},
   "outputs": [
    {
     "data": {
      "text/html": [
       "<div>\n",
       "<style scoped>\n",
       "    .dataframe tbody tr th:only-of-type {\n",
       "        vertical-align: middle;\n",
       "    }\n",
       "\n",
       "    .dataframe tbody tr th {\n",
       "        vertical-align: top;\n",
       "    }\n",
       "\n",
       "    .dataframe thead th {\n",
       "        text-align: right;\n",
       "    }\n",
       "</style>\n",
       "<table border=\"1\" class=\"dataframe\">\n",
       "  <thead>\n",
       "    <tr style=\"text-align: right;\">\n",
       "      <th></th>\n",
       "      <th>ttest</th>\n",
       "      <th>mann</th>\n",
       "      <th>smoothed_ttest</th>\n",
       "      <th>buc_ttest</th>\n",
       "      <th>buc_mann</th>\n",
       "    </tr>\n",
       "  </thead>\n",
       "  <tbody>\n",
       "    <tr>\n",
       "      <th>0</th>\n",
       "      <td>0.685373</td>\n",
       "      <td>4.632206e-45</td>\n",
       "      <td>0.051667</td>\n",
       "      <td>4.592645e-07</td>\n",
       "      <td>2.657643e-07</td>\n",
       "    </tr>\n",
       "  </tbody>\n",
       "</table>\n",
       "</div>"
      ],
      "text/plain": [
       "      ttest          mann  smoothed_ttest     buc_ttest      buc_mann\n",
       "0  0.685373  4.632206e-45        0.051667  4.592645e-07  2.657643e-07"
      ]
     },
     "execution_count": 29,
     "metadata": {},
     "output_type": "execute_result"
    }
   ],
   "source": [
    "results"
   ]
  },
  {
   "cell_type": "code",
   "execution_count": 30,
   "id": "72f1c03c-2666-416c-aedb-6e42e9b22ff4",
   "metadata": {},
   "outputs": [
    {
     "data": {
      "text/plain": [
       "<Axes: ylabel='Count'>"
      ]
     },
     "execution_count": 30,
     "metadata": {},
     "output_type": "execute_result"
    },
    {
     "data": {
      "image/png": "[encoded data removed]",
      "text/plain": [
       "<Figure size 360x360 with 1 Axes>"
      ]
     },
     "metadata": {},
     "output_type": "display_data"
    }
   ],
   "source": [
    "sns.set(rc={'figure.figsize':(5, 5)})\n",
    "sns.histplot(diff_ctr)"
   ]
  },
  {
   "cell_type": "markdown",
   "id": "6646575d-c0d5-44c7-8d6c-2f6e14b882af",
   "metadata": {},
   "source": [
    "### Вывод:\n",
    "\n",
    "1. Только t-test на обычных и на сглаженных данных (причём значение p-value на сглаженных данных было близко к 0.05 - отвержению нулевой гипотезы, что может говорить о том, что сглаживание действительно увеличивает точность теста), показал, что различие между тестовой и контрольной группами не является статистически значимым (поскольку p-value >= 0.05), другие же тесты показали противоположный результат - группы имеют значимые различия.\n",
    "\n",
    "2. Анализ результатов тестов\n",
    "\n",
    "    Краткий анализ графиков:\n",
    "     - Распределение контрольной группы унимодальное, а тестовой группы - бимодальное.\n",
    "     - Распределение группового CTR контрольной группы лежит правее группового CTR тестовой группы, не имеет пересечений.\n",
    "     - Распределение сглаженных CTR в обеих группах не сильно отличаются от обычного CTR.\n",
    "     - При бакетном преобразовании форма распределений не меняется.\n",
    "       \n",
    "    **1. t-test** мог не показать различий по данным причинам: \n",
    "      - Распределение CTR тестовой группы бимодальное, причём мода контрольной группы лежит между двумя модами распределения тестовой группы, то есть среднее по тестовой группе может наложиться на среднее контрольной группы за счёт бимодальности.\n",
    "      - Распределение CTR тестовой группы имеет довольно длинный правый хвост.\n",
    "\n",
    "     **2. t-test на сглаженных данных и после бакетного преобразования** повёл себя лучше, возможно, за счёт того, что сглаживание и усреднение по бакетам убрали выбросы (длинный правый хвост).\n",
    "\n",
    "     **3. Пуассоновский бустреп** показал, что группы не пересекаются, причём групповой CTR контрольной группы лежит правее тестовой, что можно интерпретировать как \"в тестовой группе CTR выше\", однако, после бакетного преобразования, p-value возросло, вероятно, это связано с тем, что был убран вклад выбросов из распределения тестовой группы.\n",
    "  \n",
    "     **4. Тест Манна-Уитни** показал различия между группами, поскольку он является непараметрическим, и для него не важен характер распределения.\n",
    "    \n",
    "3. Раскатывать алгоритм не стоит, потому что: \n",
    "    - Исходя из графика, CTR 2-ой группы стал хуже, в данном случае доверять ttest'у не стоит, поскольку на него оказывает влияние форма распределения тестовой группы.\n",
    "    - Большинство тестов (в том числе непараметрические) показали, что отличие между группами есть, причём благодаря пуассоновскому бутсрепу можно понять, что групповой CTR контрольной группы находится гораздо правее тестовой, это говорит о том, что в тестовой CTR не увеличился, а наоборот уменьшился."
   ]
  }
 ],
 "metadata": {
  "kernelspec": {
   "display_name": "Python 3 (ipykernel)",
   "language": "python",
   "name": "python3"
  },
  "language_info": {
   "codemirror_mode": {
    "name": "ipython",
    "version": 3
   },
   "file_extension": ".py",
   "mimetype": "text/x-python",
   "name": "python",
   "nbconvert_exporter": "python",
   "pygments_lexer": "ipython3",
   "version": "3.8.10"
  }
 },
 "nbformat": 4,
 "nbformat_minor": 5
}

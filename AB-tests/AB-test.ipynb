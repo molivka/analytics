{
 "cells": [
  {
   "cell_type": "markdown",
   "id": "16859d7f-8fff-41fb-be2a-e0baade40b86",
   "metadata": {},
   "source": [
    "## Задание: \n",
    "\n",
    "1. Проанализировать тест между группами 0 и 3 по метрике линеаризованных лайков. Видно ли отличие? Стало ли $p-value$  меньше по сравнению с обычным CTR?\n",
    "2. Проанализировать тест между группами 1 и 2 по метрике линеаризованных лайков. Видно ли отличие? Стало ли $p-value$ меньше по сравнению с обычным CTR?\n",
    "\n",
    "Данные следует брать в том же диапазоне, в котором проводился АБ-тест (с 2024-03-29 по 2024-04-04 включительно).\n",
    "При выполнении задания нужно обосновать и аргументировать выводы."
   ]
  },
  {
   "cell_type": "code",
   "execution_count": 7,
   "id": "735ff34e-a5c1-4224-8c62-262480ebfefe",
   "metadata": {},
   "outputs": [],
   "source": [
    "import pandahouse \n",
    "import pandas as pd\n",
    "import random \n",
    "from scipy import stats\n",
    "import seaborn as sns\n",
    "import matplotlib.pyplot as plt\n",
    "import numpy as np"
   ]
  },
  {
   "cell_type": "code",
   "execution_count": 8,
   "id": "2b491ba3-13c5-404c-8e18-9b9fa0c8f2ef",
   "metadata": {},
   "outputs": [],
   "source": [
    "connection = { #здесь были параметры подключения\n",
    "    'host': \"...\",\n",
    "    'password': \"...\",\n",
    "    'user': '...',\n",
    "    'database': \"...\"\n",
    "}"
   ]
  },
  {
   "cell_type": "code",
   "execution_count": 9,
   "id": "80b8f3eb-7a75-4c2d-a72f-8835540655f8",
   "metadata": {},
   "outputs": [],
   "source": [
    "q1 = \"\"\"\n",
    "    select exp_group,\n",
    "           user_id, \n",
    "           sum(action='view') as views, \n",
    "           sum(action='like') as likes, \n",
    "           sum(action='like')/sum(action='view') as ctr\n",
    "    from {db}.feed_actions\n",
    "    where date(time) between date('2024-03-29') and date('2024-04-04')\n",
    "        and exp_group in (0, 3)\n",
    "    group by user_id, exp_group\n",
    "\"\"\"\n",
    "\n",
    "q2 = \"\"\"\n",
    "    select exp_group,\n",
    "           user_id, \n",
    "           sum(action='view') as views, \n",
    "           sum(action='like') as likes, \n",
    "           sum(action='like')/sum(action='view') as ctr\n",
    "    from {db}.feed_actions\n",
    "    where date(time) between date('2024-03-29') and date('2024-04-04')\n",
    "        and exp_group in (1, 2)\n",
    "    group by user_id, exp_group\n",
    "\"\"\"\n",
    "\n",
    "first = pandahouse.read_clickhouse(q1, connection=connection)\n",
    "second = pandahouse.read_clickhouse(q2, connection=connection)"
   ]
  },
  {
   "cell_type": "code",
   "execution_count": 10,
   "id": "53d554da-9503-4405-af73-1cd8853f5f7b",
   "metadata": {},
   "outputs": [
    {
     "data": {
      "text/html": [
       "<div>\n",
       "<style scoped>\n",
       "    .dataframe tbody tr th:only-of-type {\n",
       "        vertical-align: middle;\n",
       "    }\n",
       "\n",
       "    .dataframe tbody tr th {\n",
       "        vertical-align: top;\n",
       "    }\n",
       "\n",
       "    .dataframe thead th {\n",
       "        text-align: right;\n",
       "    }\n",
       "</style>\n",
       "<table border=\"1\" class=\"dataframe\">\n",
       "  <thead>\n",
       "    <tr style=\"text-align: right;\">\n",
       "      <th></th>\n",
       "      <th>user_id</th>\n",
       "      <th>views</th>\n",
       "      <th>likes</th>\n",
       "      <th>ctr</th>\n",
       "    </tr>\n",
       "    <tr>\n",
       "      <th>exp_group</th>\n",
       "      <th></th>\n",
       "      <th></th>\n",
       "      <th></th>\n",
       "      <th></th>\n",
       "    </tr>\n",
       "  </thead>\n",
       "  <tbody>\n",
       "    <tr>\n",
       "      <th>0</th>\n",
       "      <td>9920</td>\n",
       "      <td>9920</td>\n",
       "      <td>9920</td>\n",
       "      <td>9920</td>\n",
       "    </tr>\n",
       "    <tr>\n",
       "      <th>3</th>\n",
       "      <td>10002</td>\n",
       "      <td>10002</td>\n",
       "      <td>10002</td>\n",
       "      <td>10002</td>\n",
       "    </tr>\n",
       "  </tbody>\n",
       "</table>\n",
       "</div>"
      ],
      "text/plain": [
       "           user_id  views  likes    ctr\n",
       "exp_group                              \n",
       "0             9920   9920   9920   9920\n",
       "3            10002  10002  10002  10002"
      ]
     },
     "execution_count": 10,
     "metadata": {},
     "output_type": "execute_result"
    }
   ],
   "source": [
    "first.groupby('exp_group').count()"
   ]
  },
  {
   "cell_type": "code",
   "execution_count": 11,
   "id": "96fb86ee-d162-4764-a256-d33ad324b1c5",
   "metadata": {},
   "outputs": [
    {
     "data": {
      "text/html": [
       "<div>\n",
       "<style scoped>\n",
       "    .dataframe tbody tr th:only-of-type {\n",
       "        vertical-align: middle;\n",
       "    }\n",
       "\n",
       "    .dataframe tbody tr th {\n",
       "        vertical-align: top;\n",
       "    }\n",
       "\n",
       "    .dataframe thead th {\n",
       "        text-align: right;\n",
       "    }\n",
       "</style>\n",
       "<table border=\"1\" class=\"dataframe\">\n",
       "  <thead>\n",
       "    <tr style=\"text-align: right;\">\n",
       "      <th></th>\n",
       "      <th>user_id</th>\n",
       "      <th>views</th>\n",
       "      <th>likes</th>\n",
       "      <th>ctr</th>\n",
       "    </tr>\n",
       "    <tr>\n",
       "      <th>exp_group</th>\n",
       "      <th></th>\n",
       "      <th></th>\n",
       "      <th></th>\n",
       "      <th></th>\n",
       "    </tr>\n",
       "  </thead>\n",
       "  <tbody>\n",
       "    <tr>\n",
       "      <th>1</th>\n",
       "      <td>10020</td>\n",
       "      <td>10020</td>\n",
       "      <td>10020</td>\n",
       "      <td>10020</td>\n",
       "    </tr>\n",
       "    <tr>\n",
       "      <th>2</th>\n",
       "      <td>9877</td>\n",
       "      <td>9877</td>\n",
       "      <td>9877</td>\n",
       "      <td>9877</td>\n",
       "    </tr>\n",
       "  </tbody>\n",
       "</table>\n",
       "</div>"
      ],
      "text/plain": [
       "           user_id  views  likes    ctr\n",
       "exp_group                              \n",
       "1            10020  10020  10020  10020\n",
       "2             9877   9877   9877   9877"
      ]
     },
     "execution_count": 11,
     "metadata": {},
     "output_type": "execute_result"
    }
   ],
   "source": [
    "second.groupby('exp_group').count()"
   ]
  },
  {
   "cell_type": "markdown",
   "id": "cd15053d-8e48-4632-8dc0-22c7d27b4618",
   "metadata": {},
   "source": [
    "### Мини-блок теории\n",
    "\n",
    "Линеаризация метрики:\n",
    "- Посчитать общий CTR в контрольной группе $CTR_{control} = \\frac{sum(likes)}{sum(views)}$ \n",
    "- Посчитать в обеих группах поюзерную метрику $linearized\\_likes = likes - CTR_{control} * views$\n",
    "- Сравнить t-тестом отличия в группах по метрике $linearized\\_likes$\n",
    "\n",
    "Если метрика прокрасилась $\\Rightarrow$ исходная метрика вида $\\frac{x}{y}$ тоже должна прокраситься."
   ]
  },
  {
   "cell_type": "markdown",
   "id": "cc593357-d9df-48b8-afa0-eb97281e90df",
   "metadata": {},
   "source": [
    "### Сравнение для 0 и 3 группы "
   ]
  },
  {
   "cell_type": "markdown",
   "id": "8f83ba25-dd09-4391-a62f-ba06f50f88b6",
   "metadata": {},
   "source": [
    "Посмотрим на распределение CTR в группах:"
   ]
  },
  {
   "cell_type": "code",
   "execution_count": 15,
   "id": "6e418302-bd91-449a-a07d-19ff6136614e",
   "metadata": {},
   "outputs": [],
   "source": [
    "sns.set(rc={'figure.figsize':(20, 10)})"
   ]
  },
  {
   "cell_type": "code",
   "execution_count": 16,
   "id": "d5a308bc-28b1-48fd-b48c-d8613e78352b",
   "metadata": {
    "tags": []
   },
   "outputs": [
    {
     "data": {
      "text/plain": [
       "<Axes: xlabel='ctr', ylabel='Count'>"
      ]
     },
     "execution_count": 16,
     "metadata": {},
     "output_type": "execute_result"
    },
    {
     "data": {
      "image/png": "[encoded data removed]",
      "text/plain": [
       "<Figure size 1440x720 with 1 Axes>"
      ]
     },
     "metadata": {},
     "output_type": "display_data"
    }
   ],
   "source": [
    "sns.histplot(data=first, x='ctr', hue='exp_group', palette=['r', 'g'], alpha=0.5, kde=False)"
   ]
  },
  {
   "cell_type": "code",
   "execution_count": 17,
   "id": "adc11146-ebf2-41a2-914a-399c1f4419b9",
   "metadata": {},
   "outputs": [],
   "source": [
    "ctr_control = first[first.exp_group==0].likes.sum()/first[first.exp_group==0].views.sum()\n",
    "first['linear_likes'] = first.likes - ctr_control * first.views"
   ]
  },
  {
   "cell_type": "markdown",
   "id": "dc2a28e4-c8f7-489c-b7d0-9d5c7c96923d",
   "metadata": {},
   "source": [
    "Распределение CTR в группах после линеаризации:"
   ]
  },
  {
   "cell_type": "code",
   "execution_count": 19,
   "id": "b8e267f6-8081-4c44-aef2-459c7e23f49d",
   "metadata": {},
   "outputs": [
    {
     "data": {
      "text/plain": [
       "<Axes: xlabel='linear_likes', ylabel='Count'>"
      ]
     },
     "execution_count": 19,
     "metadata": {},
     "output_type": "execute_result"
    },
    {
     "data": {
      "image/png": "[encoded data removed]",
      "text/plain": [
       "<Figure size 1440x720 with 1 Axes>"
      ]
     },
     "metadata": {},
     "output_type": "display_data"
    }
   ],
   "source": [
    "sns.histplot(data=first, x='linear_likes', hue='exp_group', palette=['r', 'g'], alpha=0.5, kde=False)"
   ]
  },
  {
   "cell_type": "code",
   "execution_count": 30,
   "id": "11538fc2-a5ef-49f5-aee4-14d5f728410f",
   "metadata": {},
   "outputs": [],
   "source": [
    "ttest_p_value_1 = stats.ttest_ind(first[first.exp_group==0].ctr, first[first.exp_group==3].ctr, equal_var=False)[1]\n",
    "linear_ttest_p_value_1 = stats.ttest_ind(first[first.exp_group==0].linear_likes, first[first.exp_group==3].linear_likes, equal_var=False)[1]"
   ]
  },
  {
   "cell_type": "code",
   "execution_count": 31,
   "id": "019681e8-dfe2-4871-820e-faed33e5aff6",
   "metadata": {},
   "outputs": [
    {
     "name": "stdout",
     "output_type": "stream",
     "text": [
      "6.216047483062228e-44\n",
      "1.4918137745326139e-58\n"
     ]
    }
   ],
   "source": [
    "print(ttest_p_value_1)\n",
    "print(linear_ttest_p_value_1)"
   ]
  },
  {
   "cell_type": "markdown",
   "id": "477c73ed-ee30-4c88-82de-55a99c40adec",
   "metadata": {},
   "source": [
    "### Вывод\n",
    "\n",
    "Отличие после линеаризации, конечно же, есть (графики распределения сместились к началу координат), но оно незаметное, поскольку распределения остались в таком же положении относительно друг друга - накладываются друг на друга. Значение p-value после линеаризации уменьшилось на несколько порядков относительно p-value классического CTR, но в целом, это не влияет на характер утверждения относительно нулевой гипотезы."
   ]
  },
  {
   "cell_type": "markdown",
   "id": "b21dcc8a-adde-438d-a606-d1e34cd6df5a",
   "metadata": {},
   "source": [
    "### Сравнение для 1 и 2 группы "
   ]
  },
  {
   "cell_type": "markdown",
   "id": "d06652f8-da22-4e22-93c9-945c949d2c11",
   "metadata": {},
   "source": [
    "Для начала посмотрим на распределение CTR в группах:"
   ]
  },
  {
   "cell_type": "code",
   "execution_count": 32,
   "id": "212378bd-fe77-4fc9-83ba-b8ed530c9c07",
   "metadata": {},
   "outputs": [
    {
     "data": {
      "text/plain": [
       "<Axes: xlabel='ctr', ylabel='Count'>"
      ]
     },
     "execution_count": 32,
     "metadata": {},
     "output_type": "execute_result"
    },
    {
     "data": {
      "image/png": "[encoded data removed]",
      "text/plain": [
       "<Figure size 1440x720 with 1 Axes>"
      ]
     },
     "metadata": {},
     "output_type": "display_data"
    }
   ],
   "source": [
    "sns.set(rc={'figure.figsize':(20, 10)})\n",
    "sns.histplot(data=second, x='ctr', hue='exp_group', palette=['r', 'g'], alpha=0.5, kde=False)"
   ]
  },
  {
   "cell_type": "code",
   "execution_count": 33,
   "id": "ed50ef26-62ba-4afd-a550-a59601b22aad",
   "metadata": {},
   "outputs": [],
   "source": [
    "ctr_control = second[second.exp_group==1].likes.sum()/second[second.exp_group==1].views.sum()\n",
    "second['linear_likes'] = second.likes - ctr_control * second.views"
   ]
  },
  {
   "cell_type": "markdown",
   "id": "b69065dd-add2-4add-b525-27e286e7289f",
   "metadata": {},
   "source": [
    "Распределение CTR в группах после линеаризации:"
   ]
  },
  {
   "cell_type": "code",
   "execution_count": 34,
   "id": "1d5dda88-a69b-4b98-a176-231ebea0e2ba",
   "metadata": {},
   "outputs": [
    {
     "data": {
      "text/plain": [
       "<Axes: xlabel='linear_likes', ylabel='Count'>"
      ]
     },
     "execution_count": 34,
     "metadata": {},
     "output_type": "execute_result"
    },
    {
     "data": {
      "image/png": "[encoded data removed]",
      "text/plain": [
       "<Figure size 1440x720 with 1 Axes>"
      ]
     },
     "metadata": {},
     "output_type": "display_data"
    }
   ],
   "source": [
    "sns.histplot(data=second, x='linear_likes', hue='exp_group', palette=['r', 'g'], alpha=0.5, kde=False)"
   ]
  },
  {
   "cell_type": "code",
   "execution_count": 35,
   "id": "9de65aee-7794-4503-9c5d-b3420231e002",
   "metadata": {},
   "outputs": [],
   "source": [
    "ttest_p_value_2 = stats.ttest_ind(second[second.exp_group==1].ctr, second[second.exp_group==2].ctr, equal_var=False)[1]\n",
    "linear_ttest_p_value_2 = stats.ttest_ind(second[second.exp_group==1].linear_likes, second[second.exp_group==2].linear_likes, equal_var=False)[1]"
   ]
  },
  {
   "cell_type": "code",
   "execution_count": 36,
   "id": "1a12905f-95e9-47c5-b5d5-71e8826881e7",
   "metadata": {},
   "outputs": [
    {
     "name": "stdout",
     "output_type": "stream",
     "text": [
      "0.685373331140751\n",
      "2.9805064038668164e-09\n"
     ]
    }
   ],
   "source": [
    "print(ttest_p_value_2)\n",
    "print(linear_ttest_p_value_2)"
   ]
  },
  {
   "cell_type": "markdown",
   "id": "5b54cd00-4c23-41be-82ae-a6ae451fb463",
   "metadata": {},
   "source": [
    "### Вывод\n",
    "\n",
    "Отличие после линеаризации есть, графики распределения сместились к началу координат, но, что более важно, поменялась форма распределения тестовой группы, \"пики\" стали почти одинаковыми по высоте, причём они оба ниже \"пика\" распределения контрольной группы. Значение p-value после линеаризации стало меньше 0.05, в то время как до линеаризации оно было больше 0.05, то есть характер утверждения относительно нулевой гипотезы изменился на противоположный. До линеаризации мы принимали нулевую гипотезу, а сейчас вынуждены её отвергнуть.\n"
   ]
  }
 ],
 "metadata": {
  "kernelspec": {
   "display_name": "Python 3 (ipykernel)",
   "language": "python",
   "name": "python3"
  },
  "language_info": {
   "codemirror_mode": {
    "name": "ipython",
    "version": 3
   },
   "file_extension": ".py",
   "mimetype": "text/x-python",
   "name": "python",
   "nbconvert_exporter": "python",
   "pygments_lexer": "ipython3",
   "version": "3.8.10"
  }
 },
 "nbformat": 4,
 "nbformat_minor": 5
}
